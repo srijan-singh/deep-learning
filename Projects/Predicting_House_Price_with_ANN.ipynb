{
  "nbformat": 4,
  "nbformat_minor": 0,
  "metadata": {
    "colab": {
      "name": "Predicting House Price with ANN.ipynb",
      "provenance": [],
      "authorship_tag": "ABX9TyP78+70l5jLei6FbOufq+Xp",
      "include_colab_link": true
    },
    "kernelspec": {
      "name": "python3",
      "display_name": "Python 3"
    },
    "accelerator": "GPU"
  },
  "cells": [
    {
      "cell_type": "markdown",
      "metadata": {
        "id": "view-in-github",
        "colab_type": "text"
      },
      "source": [
        "<a href=\"https://colab.research.google.com/github/srijan-singh/deep-learning/blob/main/Projects/Predicting_House_Price_with_ANN.ipynb\" target=\"_parent\"><img src=\"https://colab.research.google.com/assets/colab-badge.svg\" alt=\"Open In Colab\"/></a>"
      ]
    },
    {
      "cell_type": "code",
      "metadata": {
        "id": "sNIwPt-4Jv1F"
      },
      "source": [
        "import tensorflow"
      ],
      "execution_count": null,
      "outputs": []
    },
    {
      "cell_type": "code",
      "metadata": {
        "id": "x5BNBHOwKu-4"
      },
      "source": [
        "import pandas as pd\n",
        "import tensorflow as tf\n",
        "from matplotlib import pyplot as plt"
      ],
      "execution_count": null,
      "outputs": []
    },
    {
      "cell_type": "code",
      "metadata": {
        "id": "XQKrT5VIKyxQ"
      },
      "source": [
        "train_df = pd.read_csv(filepath_or_buffer=\"https://download.mlcc.google.com/mledu-datasets/california_housing_train.csv\")\n",
        "test_df = pd.read_csv(\"https://download.mlcc.google.com/mledu-datasets/california_housing_test.csv\")"
      ],
      "execution_count": null,
      "outputs": []
    },
    {
      "cell_type": "code",
      "metadata": {
        "id": "qKGwPuu9eBnT"
      },
      "source": [
        "scale_factor = 1000.0\n",
        "\n",
        "# Scale the training set's label.\n",
        "train_df[\"median_house_value\"] /= scale_factor \n",
        "\n",
        "# Scale the test set's label\n",
        "test_df[\"median_house_value\"] /= scale_factor"
      ],
      "execution_count": null,
      "outputs": []
    },
    {
      "cell_type": "code",
      "metadata": {
        "id": "uUQLW8J-LpKL",
        "colab": {
          "base_uri": "https://localhost:8080/"
        },
        "outputId": "cdc3cb02-f7b2-4de1-cef6-559239fa7c4d"
      },
      "source": [
        "# to count the entity in each category\n",
        "print(train_df.count(),\"\\n\")\n",
        "print(test_df.count())"
      ],
      "execution_count": null,
      "outputs": [
        {
          "output_type": "stream",
          "text": [
            "longitude             17000\n",
            "latitude              17000\n",
            "housing_median_age    17000\n",
            "total_rooms           17000\n",
            "total_bedrooms        17000\n",
            "population            17000\n",
            "households            17000\n",
            "median_income         17000\n",
            "median_house_value    17000\n",
            "dtype: int64 \n",
            "\n",
            "longitude             3000\n",
            "latitude              3000\n",
            "housing_median_age    3000\n",
            "total_rooms           3000\n",
            "total_bedrooms        3000\n",
            "population            3000\n",
            "households            3000\n",
            "median_income         3000\n",
            "median_house_value    3000\n",
            "dtype: int64\n"
          ],
          "name": "stdout"
        }
      ]
    },
    {
      "cell_type": "code",
      "metadata": {
        "id": "tPV6N2aPLw1q",
        "colab": {
          "base_uri": "https://localhost:8080/"
        },
        "outputId": "57f618a7-a724-48ac-d90d-087b809dc6d9"
      },
      "source": [
        "# to get the mean\n",
        "print(train_df.mean(),\"\\n\")\n",
        "print(test_df.mean())"
      ],
      "execution_count": null,
      "outputs": [
        {
          "output_type": "stream",
          "text": [
            "longitude             -119.562108\n",
            "latitude                35.625225\n",
            "housing_median_age      28.589353\n",
            "total_rooms           2643.664412\n",
            "total_bedrooms         539.410824\n",
            "population            1429.573941\n",
            "households             501.221941\n",
            "median_income            3.883578\n",
            "median_house_value     207.300912\n",
            "dtype: float64 \n",
            "\n",
            "longitude             -119.589200\n",
            "latitude                35.635390\n",
            "housing_median_age      28.845333\n",
            "total_rooms           2599.578667\n",
            "total_bedrooms         529.950667\n",
            "population            1402.798667\n",
            "households             489.912000\n",
            "median_income            3.807272\n",
            "median_house_value     205.846275\n",
            "dtype: float64\n"
          ],
          "name": "stdout"
        }
      ]
    },
    {
      "cell_type": "code",
      "metadata": {
        "id": "xzthLzuZMIv0",
        "colab": {
          "base_uri": "https://localhost:8080/"
        },
        "outputId": "e9d111ca-7e01-4dbd-bd6c-40e058f24e47"
      },
      "source": [
        "# to get the standard deviation\n",
        "training_df.std()"
      ],
      "execution_count": null,
      "outputs": [
        {
          "output_type": "execute_result",
          "data": {
            "text/plain": [
              "longitude                2.005166\n",
              "latitude                 2.137340\n",
              "housing_median_age      12.586937\n",
              "total_rooms           2179.947071\n",
              "total_bedrooms         421.499452\n",
              "population            1147.852959\n",
              "households             384.520841\n",
              "median_income            1.908157\n",
              "median_house_value     115.983764\n",
              "dtype: float64"
            ]
          },
          "metadata": {
            "tags": []
          },
          "execution_count": 8
        }
      ]
    },
    {
      "cell_type": "code",
      "metadata": {
        "id": "kk6kViK_MRo8",
        "colab": {
          "base_uri": "https://localhost:8080/"
        },
        "outputId": "0fe03ca7-812b-4f0e-fa31-4f056c3bc15f"
      },
      "source": [
        "# to get the min value\n",
        "training_df.min()"
      ],
      "execution_count": null,
      "outputs": [
        {
          "output_type": "execute_result",
          "data": {
            "text/plain": [
              "longitude            -124.3500\n",
              "latitude               32.5400\n",
              "housing_median_age      1.0000\n",
              "total_rooms             2.0000\n",
              "total_bedrooms          1.0000\n",
              "population              3.0000\n",
              "households              1.0000\n",
              "median_income           0.4999\n",
              "median_house_value     14.9990\n",
              "dtype: float64"
            ]
          },
          "metadata": {
            "tags": []
          },
          "execution_count": 9
        }
      ]
    },
    {
      "cell_type": "code",
      "metadata": {
        "id": "ljoNUzcZMZZL",
        "colab": {
          "base_uri": "https://localhost:8080/"
        },
        "outputId": "8131dc1e-84dd-4d1d-861d-03e11e38b00b"
      },
      "source": [
        "# to get the max value\n",
        "training_df.max()"
      ],
      "execution_count": null,
      "outputs": [
        {
          "output_type": "execute_result",
          "data": {
            "text/plain": [
              "longitude              -114.3100\n",
              "latitude                 41.9500\n",
              "housing_median_age       52.0000\n",
              "total_rooms           37937.0000\n",
              "total_bedrooms         6445.0000\n",
              "population            35682.0000\n",
              "households             6082.0000\n",
              "median_income            15.0001\n",
              "median_house_value      500.0010\n",
              "dtype: float64"
            ]
          },
          "metadata": {
            "tags": []
          },
          "execution_count": 10
        }
      ]
    },
    {
      "cell_type": "code",
      "metadata": {
        "id": "ADwJgVKKM50C"
      },
      "source": [
        "def build_model(my_learning_rate):\n",
        "  \"\"\"Create and compile a simple linear regression model.\"\"\"\n",
        "  # Most simple tf.keras models are sequential.\n",
        "  model = tf.keras.models.Sequential()\n",
        "\n",
        "  # Describe the topography of the model.\n",
        "  # The topography of a simple linear regression model\n",
        "  # is a single node in a single layer.\n",
        "  model.add(tf.keras.layers.Dense(units=1, \n",
        "                                  input_shape=(1,)))\n",
        "\n",
        "  # Compile the model topography into code that TensorFlow can efficiently\n",
        "  # execute. Configure training to minimize the model's mean squared error. \n",
        "  model.compile(optimizer=tf.keras.optimizers.RMSprop(lr=my_learning_rate),\n",
        "                loss=\"mean_squared_error\",\n",
        "                metrics=[tf.keras.metrics.RootMeanSquaredError()])\n",
        "\n",
        "  return model"
      ],
      "execution_count": null,
      "outputs": []
    },
    {
      "cell_type": "code",
      "metadata": {
        "id": "iN95zeoMN-vw",
        "colab": {
          "base_uri": "https://localhost:8080/"
        },
        "outputId": "8b67f67e-0bd1-4b1d-97fc-f3dff3e22bdc"
      },
      "source": [
        "def train_model(model, df, feature, label, my_epochs, \n",
        "                my_batch_size=None, my_validation_split=0.1):\n",
        "  \"\"\"Feed a dataset into the model in order to train it.\"\"\"\n",
        "\n",
        "  history = model.fit(x=df[feature],\n",
        "                      y=df[label],\n",
        "                      batch_size=my_batch_size,\n",
        "                      epochs=my_epochs,\n",
        "                      validation_split=my_validation_split)\n",
        "\n",
        "  # Gather the model's trained weight and bias.\n",
        "  trained_weight = model.get_weights()[0]\n",
        "  trained_bias = model.get_weights()[1]\n",
        "\n",
        "  # The list of epochs is stored separately from the \n",
        "  # rest of history.\n",
        "  epochs = history.epoch\n",
        "  \n",
        "  # Isolate the root mean squared error for each epoch.\n",
        "  hist = pd.DataFrame(history.history)\n",
        "  rmse = hist[\"root_mean_squared_error\"]\n",
        "\n",
        "  return epochs, rmse, history.history   \n",
        "\n",
        "print(\"Defined the build_model and train_model functions.\")"
      ],
      "execution_count": null,
      "outputs": [
        {
          "output_type": "stream",
          "text": [
            "Defined the build_model and train_model functions.\n"
          ],
          "name": "stdout"
        }
      ]
    },
    {
      "cell_type": "code",
      "metadata": {
        "id": "IZsa2qYaQRsR",
        "colab": {
          "base_uri": "https://localhost:8080/"
        },
        "outputId": "e3bce598-2f68-4ba3-bb1a-b7a05e84967e"
      },
      "source": [
        "def plot_the_loss_curve(epochs, mae_training, mae_validation):\n",
        "  \"\"\"Plot a curve of loss vs. epoch.\"\"\"\n",
        "\n",
        "  plt.figure()\n",
        "  plt.xlabel(\"Epoch\")\n",
        "  plt.ylabel(\"Root Mean Squared Error\")\n",
        "\n",
        "  plt.plot(epochs[1:], mae_training[1:], label=\"Training Loss\")\n",
        "  plt.plot(epochs[1:], mae_validation[1:], label=\"Validation Loss\")\n",
        "  plt.legend()\n",
        "  \n",
        "  # We're not going to plot the first epoch, since the loss on the first epoch\n",
        "  # is often substantially greater than the loss for other epochs.\n",
        "  merged_mae_lists = mae_training[1:] + mae_validation[1:]\n",
        "  highest_loss = max(merged_mae_lists)\n",
        "  lowest_loss = min(merged_mae_lists)\n",
        "  delta = highest_loss - lowest_loss\n",
        "  print(delta)\n",
        "\n",
        "  top_of_y_axis = highest_loss + (delta * 0.05)\n",
        "  bottom_of_y_axis = lowest_loss - (delta * 0.05)\n",
        "   \n",
        "  plt.ylim([bottom_of_y_axis, top_of_y_axis])\n",
        "  plt.show()  \n",
        "\n",
        "print(\"Defined the plot_the_loss_curve function.\")"
      ],
      "execution_count": null,
      "outputs": [
        {
          "output_type": "stream",
          "text": [
            "Defined the plot_the_loss_curve function.\n"
          ],
          "name": "stdout"
        }
      ]
    },
    {
      "cell_type": "code",
      "metadata": {
        "id": "G3qyT6W8R8av",
        "colab": {
          "base_uri": "https://localhost:8080/",
          "height": 1000
        },
        "outputId": "9d6632ae-b9e1-4b00-9c80-514dca0039f3"
      },
      "source": [
        "# The following variables are the hyperparameters.\n",
        "learning_rate = 0.04\n",
        "epochs = 30\n",
        "batch_size = 30\n",
        "\n",
        "# Split the original training set into a reduced training set and a\n",
        "# validation set. \n",
        "validation_split=0.5\n",
        "\n",
        "# Identify the feature and the label.\n",
        "my_feature=\"median_income\" and \"households\" and \"population\" and \"total_rooms\"  # the median income on a specific city block.\n",
        "my_label=\"median_house_value\" # the median value of a house on a specific city block.\n",
        "# That is, you're going to create a model that predicts house value based \n",
        "# solely on the neighborhood's median income.  \n",
        "\n",
        "# Discard any pre-existing version of the model.\n",
        "my_model = None\n",
        "\n",
        "# Invoke the functions to build and train the model.\n",
        "my_model = build_model(learning_rate)\n",
        "epochs, rmse, history = train_model(my_model, train_df, my_feature, \n",
        "                                    my_label, epochs, batch_size, \n",
        "                                    validation_split)\n",
        "\n",
        "plot_the_loss_curve(epochs, history[\"root_mean_squared_error\"], \n",
        "                    history[\"val_root_mean_squared_error\"])"
      ],
      "execution_count": null,
      "outputs": [
        {
          "output_type": "stream",
          "text": [
            "Epoch 1/30\n",
            "284/284 [==============================] - 1s 3ms/step - loss: 52122.3125 - root_mean_squared_error: 228.3031 - val_loss: 26102.3613 - val_root_mean_squared_error: 161.5623\n",
            "Epoch 2/30\n",
            "284/284 [==============================] - 1s 3ms/step - loss: 35627.1016 - root_mean_squared_error: 188.7514 - val_loss: 31860.2852 - val_root_mean_squared_error: 178.4945\n",
            "Epoch 3/30\n",
            "284/284 [==============================] - 1s 3ms/step - loss: 33882.1523 - root_mean_squared_error: 184.0710 - val_loss: 35889.3242 - val_root_mean_squared_error: 189.4448\n",
            "Epoch 4/30\n",
            "284/284 [==============================] - 1s 3ms/step - loss: 32757.9102 - root_mean_squared_error: 180.9915 - val_loss: 26283.1953 - val_root_mean_squared_error: 162.1209\n",
            "Epoch 5/30\n",
            "284/284 [==============================] - 1s 3ms/step - loss: 30706.7676 - root_mean_squared_error: 175.2335 - val_loss: 22362.2402 - val_root_mean_squared_error: 149.5401\n",
            "Epoch 6/30\n",
            "284/284 [==============================] - 1s 3ms/step - loss: 30405.0293 - root_mean_squared_error: 174.3704 - val_loss: 20407.0586 - val_root_mean_squared_error: 142.8533\n",
            "Epoch 7/30\n",
            "284/284 [==============================] - 1s 3ms/step - loss: 29278.6582 - root_mean_squared_error: 171.1101 - val_loss: 38625.4375 - val_root_mean_squared_error: 196.5336\n",
            "Epoch 8/30\n",
            "284/284 [==============================] - 1s 3ms/step - loss: 28283.8887 - root_mean_squared_error: 168.1781 - val_loss: 18973.7227 - val_root_mean_squared_error: 137.7451\n",
            "Epoch 9/30\n",
            "284/284 [==============================] - 1s 3ms/step - loss: 27260.7988 - root_mean_squared_error: 165.1084 - val_loss: 18721.0293 - val_root_mean_squared_error: 136.8248\n",
            "Epoch 10/30\n",
            "284/284 [==============================] - 1s 3ms/step - loss: 26445.7227 - root_mean_squared_error: 162.6214 - val_loss: 18112.2480 - val_root_mean_squared_error: 134.5818\n",
            "Epoch 11/30\n",
            "284/284 [==============================] - 1s 3ms/step - loss: 24931.8203 - root_mean_squared_error: 157.8981 - val_loss: 20494.9473 - val_root_mean_squared_error: 143.1606\n",
            "Epoch 12/30\n",
            "284/284 [==============================] - 1s 3ms/step - loss: 23876.2910 - root_mean_squared_error: 154.5195 - val_loss: 22874.6348 - val_root_mean_squared_error: 151.2436\n",
            "Epoch 13/30\n",
            "284/284 [==============================] - 1s 3ms/step - loss: 23130.3262 - root_mean_squared_error: 152.0866 - val_loss: 64275.6875 - val_root_mean_squared_error: 253.5265\n",
            "Epoch 14/30\n",
            "284/284 [==============================] - 1s 3ms/step - loss: 22591.0312 - root_mean_squared_error: 150.3031 - val_loss: 16830.5293 - val_root_mean_squared_error: 129.7325\n",
            "Epoch 15/30\n",
            "284/284 [==============================] - 1s 3ms/step - loss: 22551.5078 - root_mean_squared_error: 150.1716 - val_loss: 16035.6221 - val_root_mean_squared_error: 126.6318\n",
            "Epoch 16/30\n",
            "284/284 [==============================] - 1s 3ms/step - loss: 21974.7207 - root_mean_squared_error: 148.2387 - val_loss: 20003.7910 - val_root_mean_squared_error: 141.4348\n",
            "Epoch 17/30\n",
            "284/284 [==============================] - 1s 3ms/step - loss: 21208.9297 - root_mean_squared_error: 145.6329 - val_loss: 17710.1152 - val_root_mean_squared_error: 133.0794\n",
            "Epoch 18/30\n",
            "284/284 [==============================] - 1s 3ms/step - loss: 20425.1953 - root_mean_squared_error: 142.9167 - val_loss: 15203.9902 - val_root_mean_squared_error: 123.3045\n",
            "Epoch 19/30\n",
            "284/284 [==============================] - 1s 3ms/step - loss: 20581.5215 - root_mean_squared_error: 143.4626 - val_loss: 23918.4609 - val_root_mean_squared_error: 154.6559\n",
            "Epoch 20/30\n",
            "284/284 [==============================] - 1s 3ms/step - loss: 20022.9961 - root_mean_squared_error: 141.5026 - val_loss: 16122.9707 - val_root_mean_squared_error: 126.9763\n",
            "Epoch 21/30\n",
            "284/284 [==============================] - 1s 3ms/step - loss: 19976.8320 - root_mean_squared_error: 141.3394 - val_loss: 44932.0234 - val_root_mean_squared_error: 211.9718\n",
            "Epoch 22/30\n",
            "284/284 [==============================] - 1s 3ms/step - loss: 19616.6406 - root_mean_squared_error: 140.0594 - val_loss: 17340.3359 - val_root_mean_squared_error: 131.6827\n",
            "Epoch 23/30\n",
            "284/284 [==============================] - 1s 3ms/step - loss: 19340.4453 - root_mean_squared_error: 139.0699 - val_loss: 16884.0195 - val_root_mean_squared_error: 129.9385\n",
            "Epoch 24/30\n",
            "284/284 [==============================] - 1s 3ms/step - loss: 19289.3477 - root_mean_squared_error: 138.8861 - val_loss: 15191.7910 - val_root_mean_squared_error: 123.2550\n",
            "Epoch 25/30\n",
            "284/284 [==============================] - 1s 3ms/step - loss: 18391.4023 - root_mean_squared_error: 135.6149 - val_loss: 19168.0859 - val_root_mean_squared_error: 138.4489\n",
            "Epoch 26/30\n",
            "284/284 [==============================] - 1s 3ms/step - loss: 19227.6836 - root_mean_squared_error: 138.6639 - val_loss: 35233.7695 - val_root_mean_squared_error: 187.7066\n",
            "Epoch 27/30\n",
            "284/284 [==============================] - 1s 3ms/step - loss: 18508.1934 - root_mean_squared_error: 136.0448 - val_loss: 15068.3291 - val_root_mean_squared_error: 122.7531\n",
            "Epoch 28/30\n",
            "284/284 [==============================] - 1s 3ms/step - loss: 18764.0273 - root_mean_squared_error: 136.9819 - val_loss: 15100.9902 - val_root_mean_squared_error: 122.8861\n",
            "Epoch 29/30\n",
            "284/284 [==============================] - 1s 3ms/step - loss: 18652.2715 - root_mean_squared_error: 136.5733 - val_loss: 14912.4072 - val_root_mean_squared_error: 122.1164\n",
            "Epoch 30/30\n",
            "284/284 [==============================] - 1s 3ms/step - loss: 18093.2012 - root_mean_squared_error: 134.5110 - val_loss: 16387.3301 - val_root_mean_squared_error: 128.0130\n",
            "131.4101333618164\n"
          ],
          "name": "stdout"
        },
        {
          "output_type": "display_data",
          "data": {
            "image/png": "[encoded data removed]",
            "text/plain": [
              "<Figure size 432x288 with 1 Axes>"
            ]
          },
          "metadata": {
            "tags": [],
            "needs_background": "light"
          }
        }
      ]
    },
    {
      "cell_type": "code",
      "metadata": {
        "id": "GKKU0Dwug9ng",
        "colab": {
          "base_uri": "https://localhost:8080/"
        },
        "outputId": "e7c01c17-ee8e-4061-9bc3-52acb4e24dd2"
      },
      "source": [
        "x_test = test_df[my_feature]\n",
        "y_test = test_df[my_label]\n",
        "\n",
        "results = my_model.evaluate(x_test, y_test, batch_size=batch_size)"
      ],
      "execution_count": null,
      "outputs": [
        {
          "output_type": "stream",
          "text": [
            "100/100 [==============================] - 0s 2ms/step - loss: 12787.8350 - root_mean_squared_error: 113.0833\n"
          ],
          "name": "stdout"
        }
      ]
    }
  ]
}